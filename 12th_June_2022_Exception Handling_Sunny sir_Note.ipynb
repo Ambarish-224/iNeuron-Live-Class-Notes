{
  "cells": [
    {
      "cell_type": "code",
      "execution_count": null,
      "id": "91e3f51b",
      "metadata": {
        "id": "91e3f51b",
        "outputId": "2fbff685-13c4-4483-8b49-6b41b3b6f8d8"
      },
      "outputs": [
        {
          "name": "stdout",
          "output_type": "stream",
          "text": [
            "30\n"
          ]
        }
      ],
      "source": [
        "a=10\n",
        "b=20\n",
        "c=a+b\n",
        "print(c)"
      ]
    },
    {
      "cell_type": "code",
      "execution_count": null,
      "id": "44eb208b",
      "metadata": {
        "id": "44eb208b",
        "outputId": "8aa3fedf-b93c-418d-8035-bbb76e8c9d06"
      },
      "outputs": [
        {
          "ename": "SyntaxError",
          "evalue": "unexpected EOF while parsing (Temp/ipykernel_20820/1116166254.py, line 4)",
          "output_type": "error",
          "traceback": [
            "\u001b[1;36m  File \u001b[1;32m\"C:\\Users\\sunny\\AppData\\Local\\Temp/ipykernel_20820/1116166254.py\"\u001b[1;36m, line \u001b[1;32m4\u001b[0m\n\u001b[1;33m    print(c\u001b[0m\n\u001b[1;37m           ^\u001b[0m\n\u001b[1;31mSyntaxError\u001b[0m\u001b[1;31m:\u001b[0m unexpected EOF while parsing\n"
          ]
        }
      ],
      "source": [
        "a=10\n",
        "b=20\n",
        "c=a+b\n",
        "print(c"
      ]
    },
    {
      "cell_type": "code",
      "execution_count": null,
      "id": "06dd7fb3",
      "metadata": {
        "id": "06dd7fb3",
        "outputId": "3c287102-0014-4081-e048-df1f7db8c4d8"
      },
      "outputs": [
        {
          "ename": "TypeError",
          "evalue": "unsupported operand type(s) for +: 'int' and 'str'",
          "output_type": "error",
          "traceback": [
            "\u001b[1;31m---------------------------------------------------------------------------\u001b[0m",
            "\u001b[1;31mTypeError\u001b[0m                                 Traceback (most recent call last)",
            "\u001b[1;32m~\\AppData\\Local\\Temp/ipykernel_20820/3145790839.py\u001b[0m in \u001b[0;36m<module>\u001b[1;34m\u001b[0m\n\u001b[0;32m      1\u001b[0m \u001b[0ma\u001b[0m\u001b[1;33m=\u001b[0m\u001b[1;36m10\u001b[0m\u001b[1;33m\u001b[0m\u001b[1;33m\u001b[0m\u001b[0m\n\u001b[0;32m      2\u001b[0m \u001b[0mb\u001b[0m\u001b[1;33m=\u001b[0m\u001b[1;34m\"s\"\u001b[0m\u001b[1;33m\u001b[0m\u001b[1;33m\u001b[0m\u001b[0m\n\u001b[1;32m----> 3\u001b[1;33m \u001b[0mc\u001b[0m\u001b[1;33m=\u001b[0m\u001b[0ma\u001b[0m\u001b[1;33m+\u001b[0m\u001b[0mb\u001b[0m\u001b[1;33m\u001b[0m\u001b[1;33m\u001b[0m\u001b[0m\n\u001b[0m\u001b[0;32m      4\u001b[0m \u001b[0mprint\u001b[0m\u001b[1;33m(\u001b[0m\u001b[0mc\u001b[0m\u001b[1;33m)\u001b[0m\u001b[1;33m\u001b[0m\u001b[1;33m\u001b[0m\u001b[0m\n",
            "\u001b[1;31mTypeError\u001b[0m: unsupported operand type(s) for +: 'int' and 'str'"
          ]
        }
      ],
      "source": [
        "a=10\n",
        "b=\"s\"\n",
        "c=a+b\n",
        "print(c)"
      ]
    },
    {
      "cell_type": "code",
      "execution_count": null,
      "id": "ec73e797",
      "metadata": {
        "id": "ec73e797",
        "outputId": "791b8c6f-aead-45f1-c922-b90e18107558"
      },
      "outputs": [
        {
          "name": "stdout",
          "output_type": "stream",
          "text": [
            "enter first number10\n",
            "enter second number0\n"
          ]
        },
        {
          "ename": "ZeroDivisionError",
          "evalue": "division by zero",
          "output_type": "error",
          "traceback": [
            "\u001b[1;31m---------------------------------------------------------------------------\u001b[0m",
            "\u001b[1;31mZeroDivisionError\u001b[0m                         Traceback (most recent call last)",
            "\u001b[1;32m~\\AppData\\Local\\Temp/ipykernel_20820/155430750.py\u001b[0m in \u001b[0;36m<module>\u001b[1;34m\u001b[0m\n\u001b[0;32m      1\u001b[0m \u001b[0ma\u001b[0m\u001b[1;33m=\u001b[0m\u001b[0mint\u001b[0m\u001b[1;33m(\u001b[0m\u001b[0minput\u001b[0m\u001b[1;33m(\u001b[0m\u001b[1;34m\"enter first number\"\u001b[0m\u001b[1;33m)\u001b[0m\u001b[1;33m)\u001b[0m\u001b[1;33m\u001b[0m\u001b[1;33m\u001b[0m\u001b[0m\n\u001b[0;32m      2\u001b[0m \u001b[0mb\u001b[0m\u001b[1;33m=\u001b[0m\u001b[0mint\u001b[0m\u001b[1;33m(\u001b[0m\u001b[0minput\u001b[0m\u001b[1;33m(\u001b[0m\u001b[1;34m\"enter second number\"\u001b[0m\u001b[1;33m)\u001b[0m\u001b[1;33m)\u001b[0m\u001b[1;33m\u001b[0m\u001b[1;33m\u001b[0m\u001b[0m\n\u001b[1;32m----> 3\u001b[1;33m \u001b[0mc\u001b[0m\u001b[1;33m=\u001b[0m\u001b[0ma\u001b[0m\u001b[1;33m/\u001b[0m\u001b[0mb\u001b[0m\u001b[1;33m\u001b[0m\u001b[1;33m\u001b[0m\u001b[0m\n\u001b[0m\u001b[0;32m      4\u001b[0m \u001b[0mprint\u001b[0m\u001b[1;33m(\u001b[0m\u001b[0mc\u001b[0m\u001b[1;33m)\u001b[0m\u001b[1;33m\u001b[0m\u001b[1;33m\u001b[0m\u001b[0m\n\u001b[0;32m      5\u001b[0m \u001b[0md\u001b[0m\u001b[1;33m=\u001b[0m\u001b[0ma\u001b[0m\u001b[1;33m*\u001b[0m\u001b[0mb\u001b[0m\u001b[1;33m\u001b[0m\u001b[1;33m\u001b[0m\u001b[0m\n",
            "\u001b[1;31mZeroDivisionError\u001b[0m: division by zero"
          ]
        }
      ],
      "source": [
        "a=int(input(\"enter first number\"))\n",
        "b=int(input(\"enter second number\"))\n",
        "c=a/b\n",
        "print(c)\n",
        "d=a*b\n",
        "print(d)"
      ]
    },
    {
      "cell_type": "code",
      "execution_count": null,
      "id": "7cce9997",
      "metadata": {
        "id": "7cce9997"
      },
      "outputs": [],
      "source": [
        "try\n",
        "except\n",
        "else\n",
        "raise\n",
        "finally"
      ]
    },
    {
      "cell_type": "code",
      "execution_count": null,
      "id": "7d862715",
      "metadata": {
        "id": "7d862715",
        "outputId": "fff430bc-4292-40fc-8689-c9f69908bfea"
      },
      "outputs": [
        {
          "name": "stdout",
          "output_type": "stream",
          "text": [
            "enter first number10\n",
            "enter second number0\n",
            "b should not be a zero\n"
          ]
        }
      ],
      "source": [
        "a=int(input(\"enter first number\"))\n",
        "b=int(input(\"enter second number\"))\n",
        "try:\n",
        "    c=a/b\n",
        "    print(c)\n",
        "except ZeroDivisionError:\n",
        "    print(\"b should not be a zero\")\n"
      ]
    },
    {
      "cell_type": "code",
      "execution_count": null,
      "id": "29cc006e",
      "metadata": {
        "id": "29cc006e",
        "outputId": "2b2450dd-443c-479e-8389-aa429f973462"
      },
      "outputs": [
        {
          "name": "stdout",
          "output_type": "stream",
          "text": [
            "enter first number10\n",
            "enter second number0\n"
          ]
        },
        {
          "ename": "ZeroDivisionError",
          "evalue": "division by zero",
          "output_type": "error",
          "traceback": [
            "\u001b[1;31m---------------------------------------------------------------------------\u001b[0m",
            "\u001b[1;31mZeroDivisionError\u001b[0m                         Traceback (most recent call last)",
            "\u001b[1;32m~\\AppData\\Local\\Temp/ipykernel_20820/1388189589.py\u001b[0m in \u001b[0;36m<module>\u001b[1;34m\u001b[0m\n\u001b[0;32m      1\u001b[0m \u001b[0ma\u001b[0m\u001b[1;33m=\u001b[0m\u001b[0mint\u001b[0m\u001b[1;33m(\u001b[0m\u001b[0minput\u001b[0m\u001b[1;33m(\u001b[0m\u001b[1;34m\"enter first number\"\u001b[0m\u001b[1;33m)\u001b[0m\u001b[1;33m)\u001b[0m\u001b[1;33m\u001b[0m\u001b[1;33m\u001b[0m\u001b[0m\n\u001b[0;32m      2\u001b[0m \u001b[0mb\u001b[0m\u001b[1;33m=\u001b[0m\u001b[0mint\u001b[0m\u001b[1;33m(\u001b[0m\u001b[0minput\u001b[0m\u001b[1;33m(\u001b[0m\u001b[1;34m\"enter second number\"\u001b[0m\u001b[1;33m)\u001b[0m\u001b[1;33m)\u001b[0m\u001b[1;33m\u001b[0m\u001b[1;33m\u001b[0m\u001b[0m\n\u001b[1;32m----> 3\u001b[1;33m \u001b[0mc\u001b[0m\u001b[1;33m=\u001b[0m\u001b[0ma\u001b[0m\u001b[1;33m/\u001b[0m\u001b[0mb\u001b[0m\u001b[1;33m\u001b[0m\u001b[1;33m\u001b[0m\u001b[0m\n\u001b[0m\u001b[0;32m      4\u001b[0m \u001b[0mprint\u001b[0m\u001b[1;33m(\u001b[0m\u001b[0mc\u001b[0m\u001b[1;33m)\u001b[0m\u001b[1;33m\u001b[0m\u001b[1;33m\u001b[0m\u001b[0m\n",
            "\u001b[1;31mZeroDivisionError\u001b[0m: division by zero"
          ]
        }
      ],
      "source": [
        "a=int(input(\"enter first number\"))\n",
        "b=int(input(\"enter second number\"))\n",
        "c=a/b\n",
        "print(c)"
      ]
    },
    {
      "cell_type": "code",
      "execution_count": null,
      "id": "b657b1d2",
      "metadata": {
        "id": "b657b1d2",
        "outputId": "deefa9ac-c71f-484c-d4ca-7e84a11de11f"
      },
      "outputs": [
        {
          "name": "stdout",
          "output_type": "stream",
          "text": [
            "enter first number10\n",
            "enter second number0\n",
            "b should not be zero\n",
            "10\n"
          ]
        }
      ],
      "source": [
        "a=int(input(\"enter first number\"))\n",
        "b=int(input(\"enter second number\"))\n",
        "try:\n",
        "    c=a/b\n",
        "    print(c)\n",
        "except:\n",
        "    print(\"b should not be zero\")\n",
        "d=a+b\n",
        "print(d)"
      ]
    },
    {
      "cell_type": "code",
      "execution_count": null,
      "id": "d8cc1ae3",
      "metadata": {
        "id": "d8cc1ae3",
        "outputId": "c4381a3a-adf8-44ce-f044-82f76af11871"
      },
      "outputs": [
        {
          "ename": "SyntaxError",
          "evalue": "unmatched ')' (Temp/ipykernel_20820/2815211817.py, line 5)",
          "output_type": "error",
          "traceback": [
            "\u001b[1;36m  File \u001b[1;32m\"C:\\Users\\sunny\\AppData\\Local\\Temp/ipykernel_20820/2815211817.py\"\u001b[1;36m, line \u001b[1;32m5\u001b[0m\n\u001b[1;33m    print(c))\u001b[0m\n\u001b[1;37m            ^\u001b[0m\n\u001b[1;31mSyntaxError\u001b[0m\u001b[1;31m:\u001b[0m unmatched ')'\n"
          ]
        }
      ],
      "source": [
        "a=int(input(\"enter first number\"))\n",
        "b=int(input(\"enter second number\"))\n",
        "try:\n",
        "    c=a/b\n",
        "    print(c))\n",
        "except:\n",
        "    print(\"wrong syntax\")\n",
        "d=a+b\n",
        "print(d)"
      ]
    },
    {
      "cell_type": "markdown",
      "id": "a8a1dd33",
      "metadata": {
        "id": "a8a1dd33"
      },
      "source": [
        "Write a program to ask the user to input 2 integers and calculate and print their division. Make sure your program behaves as follows:\n",
        "\n",
        "- If the user enters a non integer value then ask him to enter only integers\n",
        "\n",
        "- If denominator is 0 , then ask him to input non-zero denominator\n",
        "\n",
        "-Repeat the process until correct input is given\n",
        "\n",
        "Only if the inputs are correct then display their division and terminate the code\n"
      ]
    },
    {
      "cell_type": "code",
      "execution_count": null,
      "id": "5c274d19",
      "metadata": {
        "id": "5c274d19"
      },
      "outputs": [],
      "source": [
        "a\n",
        "b\n",
        "a/b\n",
        "a=\"s\"\n",
        "print(only int)\n",
        "b=0\n",
        "print(only non zero)"
      ]
    },
    {
      "cell_type": "code",
      "execution_count": null,
      "id": "71ff259b",
      "metadata": {
        "id": "71ff259b",
        "outputId": "c9170f62-097f-4e9d-e6c1-4bf7e881a477"
      },
      "outputs": [
        {
          "name": "stdout",
          "output_type": "stream",
          "text": [
            "enter first number10\n",
            "enter second numbera\n",
            "there should not be string\n",
            "enter first numbera\n",
            "there should not be string\n",
            "enter first number10\n",
            "enter second number0\n",
            "non zero denomitor\n",
            "enter first number10\n",
            "enter second number20\n",
            "0.5\n"
          ]
        }
      ],
      "source": [
        "while True:\n",
        "    try:\n",
        "        a=int(input(\"enter first number\"))\n",
        "        b=int(input(\"enter second number\"))\n",
        "        c=a/b\n",
        "        print(c)\n",
        "        break\n",
        "    \n",
        "    except ValueError: \n",
        "        print(\"there should not be string\")\n",
        "    except ZeroDivisionError:\n",
        "        print(\"non zero denomitor\")\n",
        "    \n",
        "    \n",
        "    "
      ]
    },
    {
      "cell_type": "code",
      "execution_count": null,
      "id": "6f93553e",
      "metadata": {
        "id": "6f93553e"
      },
      "outputs": [],
      "source": [
        "try:\n",
        "        a=int(input(\"Enter First number\"))\n",
        "        b=int(input(\"Enter second number\"))\n",
        "        c=a/b\n",
        "        print(c)\n",
        "        break\n"
      ]
    },
    {
      "cell_type": "code",
      "execution_count": null,
      "id": "5fbf168e",
      "metadata": {
        "id": "5fbf168e"
      },
      "outputs": [],
      "source": [
        "while True:\n",
        "    name=input(\"write your name: \")\n",
        "    if name==\"sunny\":\n",
        "        print(\"sunny\")\n",
        "        break"
      ]
    },
    {
      "cell_type": "code",
      "execution_count": null,
      "id": "02e1d303",
      "metadata": {
        "id": "02e1d303"
      },
      "outputs": [],
      "source": [
        "4:30 will resume"
      ]
    },
    {
      "cell_type": "code",
      "execution_count": null,
      "id": "c940b7b2",
      "metadata": {
        "id": "c940b7b2"
      },
      "outputs": [],
      "source": [
        "#nisha\n",
        "try:\n",
        "  a=int(input(\"Enter number 1:\"))\n",
        "  b=int(input(\"Enter number 2:\"))\n",
        "except Exception:\n",
        "  print(\"Enter integer values only\")\n",
        "try:\n",
        "  c=a/b\n",
        "  print(c)\n",
        "except ZeroDivisionError:\n",
        "  print(\"Enter non zero value in integer\")\n"
      ]
    },
    {
      "cell_type": "code",
      "execution_count": null,
      "id": "6685fa87",
      "metadata": {
        "id": "6685fa87"
      },
      "outputs": [],
      "source": [
        "#anup\n",
        "a=int(input(\"Enter first Number : \"))\n",
        "b=int(input(\"Enter Second Number : \"))\n",
        "error =\"\"\n",
        "if type(a)!=int:\n",
        "    error = \"Please enter Numeric Value of a : \"\n",
        "if type(b)!=int:\n",
        "    error = \"Please enter Numeric Value of b : \"\n",
        "if b==0:\n",
        "    error = \"Please enter Non 0 value for b : \"\n",
        "try:\n",
        "    print(a/b)\n",
        "except:\n",
        "    print(\"Input Error\",error)\n"
      ]
    },
    {
      "cell_type": "code",
      "execution_count": null,
      "id": "99c173f0",
      "metadata": {
        "id": "99c173f0"
      },
      "outputs": [],
      "source": [
        "#praneet\n",
        "a = int(input(\"Enter a number1: \"))\n",
        "b = int(input(\"Enter a number2: \"))\n",
        "while a<0:\n",
        "    a = int(input(\"Enter a Positive number1: \"))\n",
        "while b<0:\n",
        "    b = int(input(\"Enter a Positive number2: \"))\n",
        "try:\n",
        "    c=a/b\n",
        "    print(c)\n",
        "except:\n",
        "    print(\"number2 should not be 0\")\n"
      ]
    },
    {
      "cell_type": "code",
      "execution_count": null,
      "id": "92ed4aab",
      "metadata": {
        "id": "92ed4aab"
      },
      "outputs": [],
      "source": [
        "#abhishek\n",
        "try:\n",
        "  a = int(input(\"enter first number\"))\n",
        "  b=int(input(\"enter the second number\"))\n",
        "  c = a/b\n",
        "  print(c)\n",
        "except ZeroDivisionError:\n",
        "  print(\"b should not be zero\")\n",
        "\n",
        "except ValueError :\n",
        "  print(\"enter an integer\")\n"
      ]
    },
    {
      "cell_type": "code",
      "execution_count": null,
      "id": "959f6f53",
      "metadata": {
        "id": "959f6f53"
      },
      "outputs": [],
      "source": [
        "#sumit\n",
        "a=input(\"Enter no\")\n",
        "b=input(\"Enter no\")\n",
        "try:\n",
        "    c=int(a)/int(b)\n",
        "    print(c)\n",
        "except ZeroDivisionError:\n",
        "    print(\"b should not be 0\")\n",
        "except :\n",
        "    print(\"enter integer value\")\n"
      ]
    },
    {
      "cell_type": "code",
      "execution_count": null,
      "id": "0cffa3e0",
      "metadata": {
        "id": "0cffa3e0",
        "outputId": "8b0862f2-0a4b-46d0-8aea-3f167ca991b1"
      },
      "outputs": [
        {
          "ename": "KeyboardInterrupt",
          "evalue": "Interrupted by user",
          "output_type": "error",
          "traceback": [
            "\u001b[1;31m---------------------------------------------------------------------------\u001b[0m",
            "\u001b[1;31mKeyboardInterrupt\u001b[0m                         Traceback (most recent call last)",
            "\u001b[1;32m~\\AppData\\Local\\Temp/ipykernel_22964/3993162337.py\u001b[0m in \u001b[0;36m<module>\u001b[1;34m\u001b[0m\n\u001b[1;32m----> 1\u001b[1;33m \u001b[0ma\u001b[0m\u001b[1;33m=\u001b[0m\u001b[0mint\u001b[0m\u001b[1;33m(\u001b[0m\u001b[0minput\u001b[0m\u001b[1;33m(\u001b[0m\u001b[1;34m\"enter first number: \"\u001b[0m\u001b[1;33m)\u001b[0m\u001b[1;33m)\u001b[0m\u001b[1;33m\u001b[0m\u001b[1;33m\u001b[0m\u001b[0m\n\u001b[0m\u001b[0;32m      2\u001b[0m \u001b[0mb\u001b[0m\u001b[1;33m=\u001b[0m\u001b[0minput\u001b[0m\u001b[1;33m(\u001b[0m\u001b[1;34m\"second number:\"\u001b[0m\u001b[1;33m)\u001b[0m\u001b[1;33m\u001b[0m\u001b[1;33m\u001b[0m\u001b[0m\n\u001b[0;32m      3\u001b[0m \u001b[1;33m\u001b[0m\u001b[0m\n\u001b[0;32m      4\u001b[0m \u001b[1;32mtry\u001b[0m\u001b[1;33m:\u001b[0m\u001b[1;33m\u001b[0m\u001b[1;33m\u001b[0m\u001b[0m\n\u001b[0;32m      5\u001b[0m     \u001b[0md\u001b[0m\u001b[1;33m=\u001b[0m\u001b[0ma\u001b[0m\u001b[1;33m+\u001b[0m\u001b[0mb\u001b[0m\u001b[1;33m\u001b[0m\u001b[1;33m\u001b[0m\u001b[0m\n",
            "\u001b[1;32mC:\\ProgramData\\Anaconda3\\lib\\site-packages\\ipykernel\\kernelbase.py\u001b[0m in \u001b[0;36mraw_input\u001b[1;34m(self, prompt)\u001b[0m\n\u001b[0;32m   1004\u001b[0m                 \u001b[1;34m\"raw_input was called, but this frontend does not support input requests.\"\u001b[0m\u001b[1;33m\u001b[0m\u001b[1;33m\u001b[0m\u001b[0m\n\u001b[0;32m   1005\u001b[0m             )\n\u001b[1;32m-> 1006\u001b[1;33m         return self._input_request(\n\u001b[0m\u001b[0;32m   1007\u001b[0m             \u001b[0mstr\u001b[0m\u001b[1;33m(\u001b[0m\u001b[0mprompt\u001b[0m\u001b[1;33m)\u001b[0m\u001b[1;33m,\u001b[0m\u001b[1;33m\u001b[0m\u001b[1;33m\u001b[0m\u001b[0m\n\u001b[0;32m   1008\u001b[0m             \u001b[0mself\u001b[0m\u001b[1;33m.\u001b[0m\u001b[0m_parent_ident\u001b[0m\u001b[1;33m[\u001b[0m\u001b[1;34m\"shell\"\u001b[0m\u001b[1;33m]\u001b[0m\u001b[1;33m,\u001b[0m\u001b[1;33m\u001b[0m\u001b[1;33m\u001b[0m\u001b[0m\n",
            "\u001b[1;32mC:\\ProgramData\\Anaconda3\\lib\\site-packages\\ipykernel\\kernelbase.py\u001b[0m in \u001b[0;36m_input_request\u001b[1;34m(self, prompt, ident, parent, password)\u001b[0m\n\u001b[0;32m   1049\u001b[0m             \u001b[1;32mexcept\u001b[0m \u001b[0mKeyboardInterrupt\u001b[0m\u001b[1;33m:\u001b[0m\u001b[1;33m\u001b[0m\u001b[1;33m\u001b[0m\u001b[0m\n\u001b[0;32m   1050\u001b[0m                 \u001b[1;31m# re-raise KeyboardInterrupt, to truncate traceback\u001b[0m\u001b[1;33m\u001b[0m\u001b[1;33m\u001b[0m\u001b[0m\n\u001b[1;32m-> 1051\u001b[1;33m                 \u001b[1;32mraise\u001b[0m \u001b[0mKeyboardInterrupt\u001b[0m\u001b[1;33m(\u001b[0m\u001b[1;34m\"Interrupted by user\"\u001b[0m\u001b[1;33m)\u001b[0m \u001b[1;32mfrom\u001b[0m \u001b[1;32mNone\u001b[0m\u001b[1;33m\u001b[0m\u001b[1;33m\u001b[0m\u001b[0m\n\u001b[0m\u001b[0;32m   1052\u001b[0m             \u001b[1;32mexcept\u001b[0m \u001b[0mException\u001b[0m\u001b[1;33m:\u001b[0m\u001b[1;33m\u001b[0m\u001b[1;33m\u001b[0m\u001b[0m\n\u001b[0;32m   1053\u001b[0m                 \u001b[0mself\u001b[0m\u001b[1;33m.\u001b[0m\u001b[0mlog\u001b[0m\u001b[1;33m.\u001b[0m\u001b[0mwarning\u001b[0m\u001b[1;33m(\u001b[0m\u001b[1;34m\"Invalid Message:\"\u001b[0m\u001b[1;33m,\u001b[0m \u001b[0mexc_info\u001b[0m\u001b[1;33m=\u001b[0m\u001b[1;32mTrue\u001b[0m\u001b[1;33m)\u001b[0m\u001b[1;33m\u001b[0m\u001b[1;33m\u001b[0m\u001b[0m\n",
            "\u001b[1;31mKeyboardInterrupt\u001b[0m: Interrupted by user"
          ]
        }
      ],
      "source": [
        "a=int(input(\"enter first number: \"))\n",
        "b=input(\"second number:\")\n",
        "\n",
        "try:\n",
        "    d=a+b\n",
        "    print(d)\n",
        "except ValueError:\n",
        "    print(\"please input number only\")"
      ]
    },
    {
      "cell_type": "code",
      "execution_count": null,
      "id": "ca89c6f6",
      "metadata": {
        "id": "ca89c6f6",
        "outputId": "5a4d4276-234b-42ab-91b4-dffa2e747384"
      },
      "outputs": [
        {
          "name": "stdout",
          "output_type": "stream",
          "text": [
            "enter first number: 10\n",
            "second number: a\n",
            "please input number only\n"
          ]
        }
      ],
      "source": [
        "a=int(input(\"enter first number: \"))\n",
        "b=input(\"second number: \")\n",
        "\n",
        "try:\n",
        "    d=a+b\n",
        "    print(d)\n",
        "except TypeError:\n",
        "    print(\"please input number only\")"
      ]
    },
    {
      "cell_type": "code",
      "execution_count": null,
      "id": "79c03b61",
      "metadata": {
        "id": "79c03b61"
      },
      "outputs": [],
      "source": [
        "a=int(input(\"enter first number: \"))\n",
        "b=int(input(\"second number: \"))\n",
        "\n",
        "try:\n",
        "    c=a/b\n",
        "    print(c)\n",
        "    d=a+str(b)\n",
        "    print(d)\n",
        "except (ZeroDivisionError, ValueError):\n",
        "    print(\"b should not be a zero or please input number only\")\n"
      ]
    },
    {
      "cell_type": "code",
      "execution_count": null,
      "id": "ea26f14c",
      "metadata": {
        "id": "ea26f14c",
        "outputId": "86a60d7c-9aad-49fc-88f8-fbd823c5f110"
      },
      "outputs": [
        {
          "name": "stdout",
          "output_type": "stream",
          "text": [
            "enter first number: 10\n",
            "second number: 0\n",
            "b should not be a zero\n"
          ]
        }
      ],
      "source": [
        "a=int(input(\"enter first number: \"))\n",
        "b=int(input(\"second number: \"))\n",
        "\n",
        "try:\n",
        "    c=a/b\n",
        "    print(c)\n",
        "    d=a+str(b)\n",
        "    print(d)\n",
        "except ZeroDivisionError:\n",
        "    print(\"b should not be a zero\")"
      ]
    },
    {
      "cell_type": "code",
      "execution_count": null,
      "id": "2da1e71c",
      "metadata": {
        "id": "2da1e71c",
        "outputId": "efd0e4f3-0095-4184-90f1-0111c5444c3e"
      },
      "outputs": [
        {
          "name": "stdout",
          "output_type": "stream",
          "text": [
            "enter first number: 10\n",
            "second number: 0\n",
            "b should not be a zero\n"
          ]
        }
      ],
      "source": [
        "a=int(input(\"enter first number: \"))\n",
        "b=int(input(\"second number: \"))\n",
        "try:\n",
        "    c=a/b\n",
        "    print(c)\n",
        "    d=a+str(b)\n",
        "    print(d)\n",
        "except:\n",
        "    print(\"b should not be a zero\")"
      ]
    },
    {
      "cell_type": "code",
      "execution_count": null,
      "id": "74057d8e",
      "metadata": {
        "id": "74057d8e"
      },
      "outputs": [],
      "source": [
        "1000\n",
        "hgajifsa\n",
        "jfasf\n",
        "jiojfpodasf\n",
        "jsofjposd\n",
        "hioshfdjspof\n",
        "except zerodivisionerror\n"
      ]
    },
    {
      "cell_type": "code",
      "execution_count": null,
      "id": "edf076a2",
      "metadata": {
        "id": "edf076a2",
        "outputId": "4877585d-1d2c-4c5a-ee9f-92375a6724b6"
      },
      "outputs": [
        {
          "name": "stdout",
          "output_type": "stream",
          "text": [
            "enter a stringsunny\n",
            "sting not allow\n"
          ]
        }
      ],
      "source": [
        "try:\n",
        "    int(input(\"enter a string\"))\n",
        "except:\n",
        "    print(\"sting not allow\")"
      ]
    },
    {
      "cell_type": "code",
      "execution_count": null,
      "id": "7af65b3e",
      "metadata": {
        "id": "7af65b3e",
        "outputId": "f493dd01-34eb-48d6-f4e9-d393a3acb117"
      },
      "outputs": [
        {
          "name": "stdout",
          "output_type": "stream",
          "text": [
            "first number:10\n",
            "second number:0\n",
            "division by zero\n",
            "first number:10\n",
            "second number:20\n",
            "div: 0.5\n"
          ]
        }
      ],
      "source": [
        "while True:\n",
        "    try:\n",
        "        a=int(input(\"first number:\"))\n",
        "        b=int(input(\"second number:\"))\n",
        "        c=a/b\n",
        "        print(\"div:\", c)\n",
        "        break\n",
        "    except ZeroDivisionError as e:\n",
        "        print(e)"
      ]
    },
    {
      "cell_type": "code",
      "execution_count": null,
      "id": "95e8080e",
      "metadata": {
        "id": "95e8080e",
        "outputId": "e4551517-d71e-4360-9bc5-d704b5878648"
      },
      "outputs": [
        {
          "name": "stdout",
          "output_type": "stream",
          "text": [
            "first number:10\n",
            "second number:0\n",
            "exception class <class 'ZeroDivisionError'>\n",
            "exception message division by zero\n",
            "line number 6\n",
            "first number:10\n",
            "second number:20\n",
            "div: 0.5\n"
          ]
        }
      ],
      "source": [
        "import sys\n",
        "while True:\n",
        "    try:\n",
        "        a=int(input(\"first number:\"))\n",
        "        b=int(input(\"second number:\"))\n",
        "        c=a/b\n",
        "        print(\"div:\", c)\n",
        "        break\n",
        "    except:\n",
        "        a,b,c=sys.exc_info()\n",
        "        print(\"exception class\", a)\n",
        "        print(\"exception message\", b)\n",
        "        print(\"line number\", c.tb_lineno)\n",
        "        \n",
        "        "
      ]
    },
    {
      "cell_type": "code",
      "execution_count": null,
      "id": "54243e2e",
      "metadata": {
        "id": "54243e2e"
      },
      "outputs": [],
      "source": [
        ""
      ]
    },
    {
      "cell_type": "code",
      "execution_count": null,
      "id": "f6a3da4a",
      "metadata": {
        "id": "f6a3da4a"
      },
      "outputs": [],
      "source": [
        "a,b,c=(1,2,3)"
      ]
    },
    {
      "cell_type": "code",
      "execution_count": null,
      "id": "a15c0314",
      "metadata": {
        "id": "a15c0314",
        "outputId": "4717609e-a024-4f6e-ebe8-f7e67a7500d3"
      },
      "outputs": [
        {
          "data": {
            "text/plain": [
              "1"
            ]
          },
          "execution_count": 7,
          "metadata": {},
          "output_type": "execute_result"
        }
      ],
      "source": [
        "a"
      ]
    },
    {
      "cell_type": "code",
      "execution_count": null,
      "id": "f50fe9d9",
      "metadata": {
        "id": "f50fe9d9",
        "outputId": "dc4304aa-18fb-4db0-b5b3-69bd77a2fa84"
      },
      "outputs": [
        {
          "data": {
            "text/plain": [
              "2"
            ]
          },
          "execution_count": 8,
          "metadata": {},
          "output_type": "execute_result"
        }
      ],
      "source": [
        "b"
      ]
    },
    {
      "cell_type": "code",
      "execution_count": null,
      "id": "b161c71c",
      "metadata": {
        "id": "b161c71c",
        "outputId": "480e5526-a6ff-4eb1-dd50-c04642894b3d"
      },
      "outputs": [
        {
          "data": {
            "text/plain": [
              "3"
            ]
          },
          "execution_count": 9,
          "metadata": {},
          "output_type": "execute_result"
        }
      ],
      "source": [
        "c"
      ]
    },
    {
      "cell_type": "code",
      "execution_count": null,
      "id": "2567500d",
      "metadata": {
        "id": "2567500d"
      },
      "outputs": [],
      "source": [
        "#import sys.exc.info()\n",
        "import traceback.format_exc()"
      ]
    },
    {
      "cell_type": "code",
      "execution_count": null,
      "id": "1dfc5191",
      "metadata": {
        "id": "1dfc5191",
        "outputId": "26b5d1d7-c8b6-4eef-86dc-3ec5065c8036"
      },
      "outputs": [
        {
          "name": "stdout",
          "output_type": "stream",
          "text": [
            "first number:10\n",
            "second number:0\n",
            "Traceback (most recent call last):\n",
            "  File \"C:\\Users\\sunny\\AppData\\Local\\Temp/ipykernel_22964/1496940362.py\", line 6, in <module>\n",
            "    c=a/b\n",
            "ZeroDivisionError: division by zero\n",
            "\n",
            "first number:10\n",
            "second number:20\n",
            "div: 0.5\n"
          ]
        }
      ],
      "source": [
        "import traceback\n",
        "while True:\n",
        "    try:\n",
        "        a=int(input(\"first number:\"))\n",
        "        b=int(input(\"second number:\"))\n",
        "        c=a/b\n",
        "        print(\"div:\", c)\n",
        "        break\n",
        "    except:\n",
        "        print(traceback.format_exc())\n",
        "        "
      ]
    },
    {
      "cell_type": "code",
      "execution_count": null,
      "id": "6b885394",
      "metadata": {
        "id": "6b885394",
        "outputId": "85ca65e5-dc1e-4c86-dcc8-9b2df5f8b8d4"
      },
      "outputs": [
        {
          "ename": "ZeroDivisionError",
          "evalue": "division by zero",
          "output_type": "error",
          "traceback": [
            "\u001b[1;31m---------------------------------------------------------------------------\u001b[0m",
            "\u001b[1;31mZeroDivisionError\u001b[0m                         Traceback (most recent call last)",
            "\u001b[1;32m~\\AppData\\Local\\Temp/ipykernel_22964/3771479761.py\u001b[0m in \u001b[0;36m<module>\u001b[1;34m\u001b[0m\n\u001b[0;32m      1\u001b[0m \u001b[0ma\u001b[0m\u001b[1;33m=\u001b[0m\u001b[1;36m10\u001b[0m\u001b[1;33m\u001b[0m\u001b[1;33m\u001b[0m\u001b[0m\n\u001b[0;32m      2\u001b[0m \u001b[0mb\u001b[0m\u001b[1;33m=\u001b[0m\u001b[1;36m0\u001b[0m\u001b[1;33m\u001b[0m\u001b[1;33m\u001b[0m\u001b[0m\n\u001b[1;32m----> 3\u001b[1;33m \u001b[0ma\u001b[0m\u001b[1;33m/\u001b[0m\u001b[0mb\u001b[0m\u001b[1;33m\u001b[0m\u001b[1;33m\u001b[0m\u001b[0m\n\u001b[0m",
            "\u001b[1;31mZeroDivisionError\u001b[0m: division by zero"
          ]
        }
      ],
      "source": [
        "a=10\n",
        "b=0\n",
        "a/b"
      ]
    },
    {
      "cell_type": "code",
      "execution_count": null,
      "id": "8a26921d",
      "metadata": {
        "id": "8a26921d"
      },
      "outputs": [],
      "source": [
        "#raise  exception"
      ]
    },
    {
      "cell_type": "code",
      "execution_count": null,
      "id": "f44190a4",
      "metadata": {
        "id": "f44190a4"
      },
      "outputs": [],
      "source": [
        "#at custom line"
      ]
    },
    {
      "cell_type": "code",
      "execution_count": null,
      "id": "8b3213fe",
      "metadata": {
        "id": "8b3213fe",
        "outputId": "84512eb2-b12b-47ae-8823-88de746abe07"
      },
      "outputs": [
        {
          "name": "stdout",
          "output_type": "stream",
          "text": [
            "first number:10\n",
            "second number:0\n"
          ]
        },
        {
          "ename": "ZeroDivisionError",
          "evalue": "division by zero",
          "output_type": "error",
          "traceback": [
            "\u001b[1;31m---------------------------------------------------------------------------\u001b[0m",
            "\u001b[1;31mZeroDivisionError\u001b[0m                         Traceback (most recent call last)",
            "\u001b[1;32m~\\AppData\\Local\\Temp/ipykernel_22964/1604168717.py\u001b[0m in \u001b[0;36m<module>\u001b[1;34m\u001b[0m\n\u001b[0;32m      1\u001b[0m \u001b[0ma\u001b[0m\u001b[1;33m=\u001b[0m\u001b[0mint\u001b[0m\u001b[1;33m(\u001b[0m\u001b[0minput\u001b[0m\u001b[1;33m(\u001b[0m\u001b[1;34m\"first number:\"\u001b[0m\u001b[1;33m)\u001b[0m \u001b[1;33m)\u001b[0m\u001b[1;33m\u001b[0m\u001b[1;33m\u001b[0m\u001b[0m\n\u001b[0;32m      2\u001b[0m \u001b[0mb\u001b[0m\u001b[1;33m=\u001b[0m\u001b[0mint\u001b[0m\u001b[1;33m(\u001b[0m\u001b[0minput\u001b[0m\u001b[1;33m(\u001b[0m\u001b[1;34m\"second number:\"\u001b[0m\u001b[1;33m)\u001b[0m\u001b[1;33m)\u001b[0m\u001b[1;33m\u001b[0m\u001b[1;33m\u001b[0m\u001b[0m\n\u001b[1;32m----> 3\u001b[1;33m \u001b[0ma\u001b[0m\u001b[1;33m/\u001b[0m\u001b[0mb\u001b[0m\u001b[1;33m\u001b[0m\u001b[1;33m\u001b[0m\u001b[0m\n\u001b[0m",
            "\u001b[1;31mZeroDivisionError\u001b[0m: division by zero"
          ]
        }
      ],
      "source": [
        "a=int(input(\"first number:\") )\n",
        "b=int(input(\"second number:\"))\n",
        "a/b"
      ]
    },
    {
      "cell_type": "code",
      "execution_count": null,
      "id": "2733fe8b",
      "metadata": {
        "id": "2733fe8b",
        "outputId": "0cbc6a46-10c3-446d-b7b7-99c87c7b0d0a"
      },
      "outputs": [
        {
          "name": "stdout",
          "output_type": "stream",
          "text": [
            "first number:1243124\n",
            "second number:sunny\n",
            "please enter int only\n",
            "first number:summy\n",
            "please enter int only\n",
            "first number:34234\n",
            "second number:dsfdskl\n",
            "please enter int only\n",
            "first number:10\n",
            "second number:20\n",
            "div is 0.5\n"
          ]
        }
      ],
      "source": [
        "while True:\n",
        "    try:\n",
        "        a=int(input(\"first number:\"))\n",
        "        b=int(input(\"second number:\"))\n",
        "        if a<0 or b<0: \n",
        "            raise Exception(\"neg number note allowd\")\n",
        "        c=a/b\n",
        "        print(\"div is\", c)\n",
        "        break\n",
        "    except ValueError:\n",
        "        print(\"please enter int only\")\n",
        "    except ZeroDivisionError:\n",
        "        print(\"please enter non zero denomitor\")\n",
        "    except Exception as e:\n",
        "        print(e)"
      ]
    },
    {
      "cell_type": "markdown",
      "id": "aeb6a545",
      "metadata": {
        "id": "aeb6a545"
      },
      "source": [
        "#### exception class in python already they have define and we are calling this class."
      ]
    },
    {
      "cell_type": "markdown",
      "id": "8575bb27",
      "metadata": {
        "id": "8575bb27"
      },
      "source": [
        "### if you are going to define this class in your code so it will run"
      ]
    },
    {
      "cell_type": "code",
      "execution_count": null,
      "id": "1699bae8",
      "metadata": {
        "id": "1699bae8"
      },
      "outputs": [],
      "source": [
        "class NegativeNumberException(Exception):\n",
        "    pass"
      ]
    },
    {
      "cell_type": "code",
      "execution_count": null,
      "id": "1c157e1f",
      "metadata": {
        "scrolled": true,
        "id": "1c157e1f",
        "outputId": "6816d056-1cfb-416d-bf67-81c95d0bb84e"
      },
      "outputs": [
        {
          "name": "stdout",
          "output_type": "stream",
          "text": [
            "first number:10\n",
            "second number:-10\n",
            "neg number note allowd\n",
            "first number:10\n",
            "second number:210\n",
            "div is 0.047619047619047616\n"
          ]
        }
      ],
      "source": [
        "#custom exception\n",
        "class NegativeNumberException(Exception):\n",
        "    pass\n",
        "while True:\n",
        "    try:\n",
        "        a=int(input(\"first number:\"))\n",
        "        b=int(input(\"second number:\"))\n",
        "        if a<0 or b<0: \n",
        "            raise NegativeNumberException(\"neg number note allowd\")\n",
        "        c=a/b\n",
        "        print(\"div is\", c)\n",
        "        break\n",
        "    except ValueError:\n",
        "        print(\"please enter int only\")\n",
        "    except ZeroDivisionError:\n",
        "        print(\"please enter non zero denomitor\")\n",
        "    except NegativeNumberException as e:\n",
        "        print(e)"
      ]
    },
    {
      "cell_type": "markdown",
      "id": "25a41808",
      "metadata": {
        "id": "25a41808"
      },
      "source": [
        "### final block"
      ]
    },
    {
      "cell_type": "code",
      "execution_count": null,
      "id": "a9ca9205",
      "metadata": {
        "id": "a9ca9205",
        "outputId": "23663af5-3117-4475-c530-d9f5e7b8c15d"
      },
      "outputs": [
        {
          "name": "stdout",
          "output_type": "stream",
          "text": [
            "first number:10\n",
            "second number:0\n",
            "dont use zero in denomitor\n",
            "hello\n",
            "python\n"
          ]
        }
      ],
      "source": [
        "try:\n",
        "    a=int(input(\"first number:\"))\n",
        "    b=int(input(\"second number:\"))\n",
        "    c=a/b\n",
        "    print(c)\n",
        "except:\n",
        "    print(\"dont use zero in denomitor\")\n",
        "    \n",
        "finally:\n",
        "    print(\"hello\")\n",
        "    print(\"python\")"
      ]
    },
    {
      "cell_type": "code",
      "execution_count": null,
      "id": "71366daa",
      "metadata": {
        "id": "71366daa"
      },
      "outputs": [],
      "source": [
        "1 we have crate one database \n",
        "we forgot to close the connection\n",
        "\n",
        "2. cloud service\n",
        "those app we forgot to terminate"
      ]
    },
    {
      "cell_type": "code",
      "execution_count": null,
      "id": "9a079e90",
      "metadata": {
        "id": "9a079e90",
        "outputId": "5ad6d298-9f44-4128-cbd8-575ee583c872"
      },
      "outputs": [
        {
          "name": "stdout",
          "output_type": "stream",
          "text": [
            "first number:10\n",
            "second number:20\n",
            "0.5\n",
            "hello\n",
            "python\n"
          ]
        }
      ],
      "source": [
        "try:\n",
        "    a=int(input(\"first number:\"))\n",
        "    b=int(input(\"second number:\"))\n",
        "    c=a/b\n",
        "    print(c)\n",
        "except:\n",
        "    print(\"dont use zero in denomitor\")\n",
        "    \n",
        "\n",
        "print(\"hello\")\n",
        "print(\"python\")"
      ]
    },
    {
      "cell_type": "code",
      "execution_count": null,
      "id": "8bcabce5",
      "metadata": {
        "id": "8bcabce5",
        "outputId": "3b42b178-2cc7-4871-b0e6-743d5772cd27"
      },
      "outputs": [
        {
          "name": "stdout",
          "output_type": "stream",
          "text": [
            "first number:10\n",
            "second number:0\n",
            "dont use zero in denomitor\n"
          ]
        }
      ],
      "source": [
        "try:\n",
        "    a=int(input(\"first number:\"))\n",
        "    b=int(input(\"second number:\"))\n",
        "    c=a/b\n",
        "    print(c)\n",
        "except:\n",
        "    print(\"dont use zero in denomitor\")\n",
        "else:\n",
        "    print(\"python rocks!!\")\n",
        "    "
      ]
    },
    {
      "cell_type": "code",
      "execution_count": null,
      "id": "1dff6bc0",
      "metadata": {
        "id": "1dff6bc0",
        "outputId": "79fd90d1-4d3b-4cfb-a655-10890547a515"
      },
      "outputs": [
        {
          "name": "stdout",
          "output_type": "stream",
          "text": [
            "first number:10\n",
            "second number:0\n",
            "dont use zero in denomitor\n",
            "python rocks!!\n"
          ]
        }
      ],
      "source": [
        "try:\n",
        "    a=int(input(\"first number:\"))\n",
        "    b=int(input(\"second number:\"))\n",
        "    c=a/b\n",
        "    print(c)\n",
        "except:\n",
        "    print(\"dont use zero in denomitor\")\n",
        "finally:\n",
        "    print(\"python rocks!!\")\n",
        "    "
      ]
    },
    {
      "cell_type": "code",
      "execution_count": null,
      "id": "c5911573",
      "metadata": {
        "id": "c5911573"
      },
      "outputs": [],
      "source": [
        "stirng=\"database connection\"-->error\n",
        "this line in\n",
        "try block\n",
        "except\n",
        "\n",
        "close the connection of this database\n",
        "close in finally---sure"
      ]
    },
    {
      "cell_type": "code",
      "execution_count": null,
      "id": "6cd74417",
      "metadata": {
        "id": "6cd74417",
        "outputId": "44bfdfc1-4c45-44e8-ec30-b4d5328d75c4"
      },
      "outputs": [
        {
          "name": "stdout",
          "output_type": "stream",
          "text": [
            "enter number: 10\n"
          ]
        }
      ],
      "source": [
        "a=input(\"enter number: \")"
      ]
    },
    {
      "cell_type": "code",
      "execution_count": null,
      "id": "7a6de918",
      "metadata": {
        "id": "7a6de918",
        "outputId": "2a37bcc1-9dbc-4123-e427-d2846eede3a4"
      },
      "outputs": [
        {
          "data": {
            "text/plain": [
              "str"
            ]
          },
          "execution_count": 38,
          "metadata": {},
          "output_type": "execute_result"
        }
      ],
      "source": [
        "type(a)"
      ]
    },
    {
      "cell_type": "code",
      "execution_count": null,
      "id": "918f8af5",
      "metadata": {
        "id": "918f8af5",
        "outputId": "e04efb2d-284a-41d0-dd8c-1537e8a7ee08"
      },
      "outputs": [
        {
          "name": "stdout",
          "output_type": "stream",
          "text": [
            "enter number: 10\n"
          ]
        }
      ],
      "source": [
        "b=int(input(\"enter number: \"))"
      ]
    },
    {
      "cell_type": "code",
      "execution_count": null,
      "id": "2281f7d9",
      "metadata": {
        "id": "2281f7d9",
        "outputId": "0e48193a-aaf3-432d-a7ff-999036455077"
      },
      "outputs": [
        {
          "data": {
            "text/plain": [
              "int"
            ]
          },
          "execution_count": 40,
          "metadata": {},
          "output_type": "execute_result"
        }
      ],
      "source": [
        "type(b)"
      ]
    },
    {
      "cell_type": "code",
      "execution_count": null,
      "id": "4cd97bdf",
      "metadata": {
        "id": "4cd97bdf",
        "outputId": "8324dc3f-8840-477d-9d2e-f215ab402063"
      },
      "outputs": [
        {
          "name": "stdout",
          "output_type": "stream",
          "text": [
            "enter number: sunny\n"
          ]
        },
        {
          "ename": "ValueError",
          "evalue": "invalid literal for int() with base 10: 'sunny'",
          "output_type": "error",
          "traceback": [
            "\u001b[1;31m---------------------------------------------------------------------------\u001b[0m",
            "\u001b[1;31mValueError\u001b[0m                                Traceback (most recent call last)",
            "\u001b[1;32m~\\AppData\\Local\\Temp/ipykernel_22964/359078977.py\u001b[0m in \u001b[0;36m<module>\u001b[1;34m\u001b[0m\n\u001b[1;32m----> 1\u001b[1;33m \u001b[0mint\u001b[0m\u001b[1;33m(\u001b[0m\u001b[0minput\u001b[0m\u001b[1;33m(\u001b[0m\u001b[1;34m\"enter number: \"\u001b[0m\u001b[1;33m)\u001b[0m\u001b[1;33m)\u001b[0m\u001b[1;33m\u001b[0m\u001b[1;33m\u001b[0m\u001b[0m\n\u001b[0m",
            "\u001b[1;31mValueError\u001b[0m: invalid literal for int() with base 10: 'sunny'"
          ]
        }
      ],
      "source": [
        "try:\n",
        "    int(input(\"enter number: \"))\n",
        "except:  "
      ]
    },
    {
      "cell_type": "code",
      "execution_count": null,
      "id": "de88fda8",
      "metadata": {
        "id": "de88fda8"
      },
      "outputs": [],
      "source": [
        "addition-->only value means 10 ro 20 or 30 but if a b c snny "
      ]
    },
    {
      "cell_type": "code",
      "execution_count": null,
      "id": "cfb1805c",
      "metadata": {
        "id": "cfb1805c",
        "outputId": "279ef3f3-69d5-49e8-c509-92eefa43e003"
      },
      "outputs": [
        {
          "name": "stdout",
          "output_type": "stream",
          "text": [
            "enter number: a\n",
            "dont write any value only int\n"
          ]
        }
      ],
      "source": [
        "try:\n",
        "    int(input(\"enter number: \"))\n",
        "except ValueError:\n",
        "    print(\"dont write any value only int\")"
      ]
    },
    {
      "cell_type": "code",
      "execution_count": null,
      "id": "1ea71935",
      "metadata": {
        "id": "1ea71935",
        "outputId": "5fc4a1de-1131-417a-c755-35fc03f4dabf"
      },
      "outputs": [
        {
          "name": "stdout",
          "output_type": "stream",
          "text": [
            "enter first number: 10\n",
            "enter second number: 0\n",
            "b should not be a zero\n"
          ]
        },
        {
          "ename": "KeyboardInterrupt",
          "evalue": "Interrupted by user",
          "output_type": "error",
          "traceback": [
            "\u001b[1;31m---------------------------------------------------------------------------\u001b[0m",
            "\u001b[1;31mKeyboardInterrupt\u001b[0m                         Traceback (most recent call last)",
            "\u001b[1;32m~\\AppData\\Local\\Temp/ipykernel_22964/173363461.py\u001b[0m in \u001b[0;36m<module>\u001b[1;34m\u001b[0m\n\u001b[0;32m      1\u001b[0m \u001b[1;32mwhile\u001b[0m \u001b[1;32mTrue\u001b[0m\u001b[1;33m:\u001b[0m\u001b[1;33m\u001b[0m\u001b[1;33m\u001b[0m\u001b[0m\n\u001b[0;32m      2\u001b[0m     \u001b[1;32mtry\u001b[0m\u001b[1;33m:\u001b[0m\u001b[1;33m\u001b[0m\u001b[1;33m\u001b[0m\u001b[0m\n\u001b[1;32m----> 3\u001b[1;33m         \u001b[0ma\u001b[0m\u001b[1;33m=\u001b[0m \u001b[0minput\u001b[0m\u001b[1;33m(\u001b[0m\u001b[1;34m\"enter first number: \"\u001b[0m\u001b[1;33m)\u001b[0m\u001b[1;33m\u001b[0m\u001b[1;33m\u001b[0m\u001b[0m\n\u001b[0m\u001b[0;32m      4\u001b[0m         \u001b[0mb\u001b[0m\u001b[1;33m=\u001b[0m \u001b[0minput\u001b[0m\u001b[1;33m(\u001b[0m\u001b[1;34m\"enter second number: \"\u001b[0m\u001b[1;33m)\u001b[0m\u001b[1;33m\u001b[0m\u001b[1;33m\u001b[0m\u001b[0m\n\u001b[0;32m      5\u001b[0m         \u001b[0mc\u001b[0m\u001b[1;33m=\u001b[0m\u001b[0mint\u001b[0m\u001b[1;33m(\u001b[0m\u001b[0ma\u001b[0m\u001b[1;33m)\u001b[0m\u001b[1;33m/\u001b[0m\u001b[0mint\u001b[0m\u001b[1;33m(\u001b[0m\u001b[0mb\u001b[0m\u001b[1;33m)\u001b[0m\u001b[1;33m\u001b[0m\u001b[1;33m\u001b[0m\u001b[0m\n",
            "\u001b[1;32mC:\\ProgramData\\Anaconda3\\lib\\site-packages\\ipykernel\\kernelbase.py\u001b[0m in \u001b[0;36mraw_input\u001b[1;34m(self, prompt)\u001b[0m\n\u001b[0;32m   1004\u001b[0m                 \u001b[1;34m\"raw_input was called, but this frontend does not support input requests.\"\u001b[0m\u001b[1;33m\u001b[0m\u001b[1;33m\u001b[0m\u001b[0m\n\u001b[0;32m   1005\u001b[0m             )\n\u001b[1;32m-> 1006\u001b[1;33m         return self._input_request(\n\u001b[0m\u001b[0;32m   1007\u001b[0m             \u001b[0mstr\u001b[0m\u001b[1;33m(\u001b[0m\u001b[0mprompt\u001b[0m\u001b[1;33m)\u001b[0m\u001b[1;33m,\u001b[0m\u001b[1;33m\u001b[0m\u001b[1;33m\u001b[0m\u001b[0m\n\u001b[0;32m   1008\u001b[0m             \u001b[0mself\u001b[0m\u001b[1;33m.\u001b[0m\u001b[0m_parent_ident\u001b[0m\u001b[1;33m[\u001b[0m\u001b[1;34m\"shell\"\u001b[0m\u001b[1;33m]\u001b[0m\u001b[1;33m,\u001b[0m\u001b[1;33m\u001b[0m\u001b[1;33m\u001b[0m\u001b[0m\n",
            "\u001b[1;32mC:\\ProgramData\\Anaconda3\\lib\\site-packages\\ipykernel\\kernelbase.py\u001b[0m in \u001b[0;36m_input_request\u001b[1;34m(self, prompt, ident, parent, password)\u001b[0m\n\u001b[0;32m   1049\u001b[0m             \u001b[1;32mexcept\u001b[0m \u001b[0mKeyboardInterrupt\u001b[0m\u001b[1;33m:\u001b[0m\u001b[1;33m\u001b[0m\u001b[1;33m\u001b[0m\u001b[0m\n\u001b[0;32m   1050\u001b[0m                 \u001b[1;31m# re-raise KeyboardInterrupt, to truncate traceback\u001b[0m\u001b[1;33m\u001b[0m\u001b[1;33m\u001b[0m\u001b[0m\n\u001b[1;32m-> 1051\u001b[1;33m                 \u001b[1;32mraise\u001b[0m \u001b[0mKeyboardInterrupt\u001b[0m\u001b[1;33m(\u001b[0m\u001b[1;34m\"Interrupted by user\"\u001b[0m\u001b[1;33m)\u001b[0m \u001b[1;32mfrom\u001b[0m \u001b[1;32mNone\u001b[0m\u001b[1;33m\u001b[0m\u001b[1;33m\u001b[0m\u001b[0m\n\u001b[0m\u001b[0;32m   1052\u001b[0m             \u001b[1;32mexcept\u001b[0m \u001b[0mException\u001b[0m\u001b[1;33m:\u001b[0m\u001b[1;33m\u001b[0m\u001b[1;33m\u001b[0m\u001b[0m\n\u001b[0;32m   1053\u001b[0m                 \u001b[0mself\u001b[0m\u001b[1;33m.\u001b[0m\u001b[0mlog\u001b[0m\u001b[1;33m.\u001b[0m\u001b[0mwarning\u001b[0m\u001b[1;33m(\u001b[0m\u001b[1;34m\"Invalid Message:\"\u001b[0m\u001b[1;33m,\u001b[0m \u001b[0mexc_info\u001b[0m\u001b[1;33m=\u001b[0m\u001b[1;32mTrue\u001b[0m\u001b[1;33m)\u001b[0m\u001b[1;33m\u001b[0m\u001b[1;33m\u001b[0m\u001b[0m\n",
            "\u001b[1;31mKeyboardInterrupt\u001b[0m: Interrupted by user"
          ]
        }
      ],
      "source": [
        "while True:\n",
        "    try:\n",
        "        a= input(\"enter first number: \")\n",
        "        b= input(\"enter second number: \")\n",
        "        c=int(a)/int(b)\n",
        "        print(c)\n",
        "        break\n",
        "    except ZeroDivisionError:\n",
        "        print(\"b should not be a zero\")\n",
        "    else:\n",
        "        print(\"pls input numbers only\")\n",
        "    \n"
      ]
    },
    {
      "cell_type": "code",
      "execution_count": null,
      "id": "aff752a7",
      "metadata": {
        "id": "aff752a7"
      },
      "outputs": [],
      "source": [
        "import sys\n",
        "def test():\n",
        "        try:\n",
        "            a= input(\"enter first number: \")\n",
        "            b= input(\"enter second number: \")\n",
        "            c=int(a)/int(b)\n",
        "            print(c)\n",
        "        except:\n",
        "            print(sys.exc_info())\n",
        "        "
      ]
    },
    {
      "cell_type": "code",
      "execution_count": null,
      "id": "a8d6a07a",
      "metadata": {
        "id": "a8d6a07a"
      },
      "outputs": [],
      "source": [
        "import traceback\n",
        "def test():\n",
        "        try:\n",
        "            a= input(\"enter first number: \")\n",
        "            b= input(\"enter second number: \")\n",
        "            c=int(a)/int(b)\n",
        "            print(c)\n",
        "        except:\n",
        "            print(traceback.format_exc())"
      ]
    },
    {
      "cell_type": "code",
      "execution_count": null,
      "id": "ed25e008",
      "metadata": {
        "id": "ed25e008",
        "outputId": "3ebd998a-e29d-4844-f485-35f729e280a6"
      },
      "outputs": [
        {
          "name": "stdout",
          "output_type": "stream",
          "text": [
            "enter first number: \n",
            "enter second number: \n",
            "Traceback (most recent call last):\n",
            "  File \"C:\\Users\\sunny\\AppData\\Local\\Temp/ipykernel_22964/2894260650.py\", line 6, in test\n",
            "    c=int(a)/int(b)\n",
            "ValueError: invalid literal for int() with base 10: ''\n",
            "\n"
          ]
        }
      ],
      "source": [
        "test()"
      ]
    },
    {
      "cell_type": "code",
      "execution_count": null,
      "id": "e82d704a",
      "metadata": {
        "id": "e82d704a",
        "outputId": "66a03782-5cb8-4bc5-8a61-610c1ed5111d"
      },
      "outputs": [
        {
          "name": "stdout",
          "output_type": "stream",
          "text": [
            "enter first number: \n",
            "enter second number: \n",
            "Please enter again with a numeric value\n",
            "enter first number: \n",
            "enter second number: \n",
            "Please enter again with a numeric value\n",
            "enter first number: \n",
            "enter second number: \n",
            "Please enter again with a numeric value\n",
            "enter first number: \n",
            "enter second number: \n",
            "Please enter again with a numeric value\n"
          ]
        },
        {
          "ename": "KeyboardInterrupt",
          "evalue": "Interrupted by user",
          "output_type": "error",
          "traceback": [
            "\u001b[1;31m---------------------------------------------------------------------------\u001b[0m",
            "\u001b[1;31mKeyboardInterrupt\u001b[0m                         Traceback (most recent call last)",
            "\u001b[1;32m~\\AppData\\Local\\Temp/ipykernel_22964/1245321507.py\u001b[0m in \u001b[0;36m<module>\u001b[1;34m\u001b[0m\n\u001b[0;32m      1\u001b[0m \u001b[1;32mwhile\u001b[0m \u001b[1;32mTrue\u001b[0m\u001b[1;33m:\u001b[0m\u001b[1;33m\u001b[0m\u001b[1;33m\u001b[0m\u001b[0m\n\u001b[0;32m      2\u001b[0m \u001b[1;33m\u001b[0m\u001b[0m\n\u001b[1;32m----> 3\u001b[1;33m     \u001b[0ma\u001b[0m\u001b[1;33m=\u001b[0m\u001b[0minput\u001b[0m\u001b[1;33m(\u001b[0m\u001b[1;34m\"enter first number: \"\u001b[0m\u001b[1;33m)\u001b[0m\u001b[1;33m\u001b[0m\u001b[1;33m\u001b[0m\u001b[0m\n\u001b[0m\u001b[0;32m      4\u001b[0m     \u001b[0mb\u001b[0m\u001b[1;33m=\u001b[0m\u001b[0minput\u001b[0m\u001b[1;33m(\u001b[0m\u001b[1;34m\"enter second number: \"\u001b[0m\u001b[1;33m)\u001b[0m\u001b[1;33m\u001b[0m\u001b[1;33m\u001b[0m\u001b[0m\n\u001b[0;32m      5\u001b[0m \u001b[1;33m\u001b[0m\u001b[0m\n",
            "\u001b[1;32mC:\\ProgramData\\Anaconda3\\lib\\site-packages\\ipykernel\\kernelbase.py\u001b[0m in \u001b[0;36mraw_input\u001b[1;34m(self, prompt)\u001b[0m\n\u001b[0;32m   1004\u001b[0m                 \u001b[1;34m\"raw_input was called, but this frontend does not support input requests.\"\u001b[0m\u001b[1;33m\u001b[0m\u001b[1;33m\u001b[0m\u001b[0m\n\u001b[0;32m   1005\u001b[0m             )\n\u001b[1;32m-> 1006\u001b[1;33m         return self._input_request(\n\u001b[0m\u001b[0;32m   1007\u001b[0m             \u001b[0mstr\u001b[0m\u001b[1;33m(\u001b[0m\u001b[0mprompt\u001b[0m\u001b[1;33m)\u001b[0m\u001b[1;33m,\u001b[0m\u001b[1;33m\u001b[0m\u001b[1;33m\u001b[0m\u001b[0m\n\u001b[0;32m   1008\u001b[0m             \u001b[0mself\u001b[0m\u001b[1;33m.\u001b[0m\u001b[0m_parent_ident\u001b[0m\u001b[1;33m[\u001b[0m\u001b[1;34m\"shell\"\u001b[0m\u001b[1;33m]\u001b[0m\u001b[1;33m,\u001b[0m\u001b[1;33m\u001b[0m\u001b[1;33m\u001b[0m\u001b[0m\n",
            "\u001b[1;32mC:\\ProgramData\\Anaconda3\\lib\\site-packages\\ipykernel\\kernelbase.py\u001b[0m in \u001b[0;36m_input_request\u001b[1;34m(self, prompt, ident, parent, password)\u001b[0m\n\u001b[0;32m   1049\u001b[0m             \u001b[1;32mexcept\u001b[0m \u001b[0mKeyboardInterrupt\u001b[0m\u001b[1;33m:\u001b[0m\u001b[1;33m\u001b[0m\u001b[1;33m\u001b[0m\u001b[0m\n\u001b[0;32m   1050\u001b[0m                 \u001b[1;31m# re-raise KeyboardInterrupt, to truncate traceback\u001b[0m\u001b[1;33m\u001b[0m\u001b[1;33m\u001b[0m\u001b[0m\n\u001b[1;32m-> 1051\u001b[1;33m                 \u001b[1;32mraise\u001b[0m \u001b[0mKeyboardInterrupt\u001b[0m\u001b[1;33m(\u001b[0m\u001b[1;34m\"Interrupted by user\"\u001b[0m\u001b[1;33m)\u001b[0m \u001b[1;32mfrom\u001b[0m \u001b[1;32mNone\u001b[0m\u001b[1;33m\u001b[0m\u001b[1;33m\u001b[0m\u001b[0m\n\u001b[0m\u001b[0;32m   1052\u001b[0m             \u001b[1;32mexcept\u001b[0m \u001b[0mException\u001b[0m\u001b[1;33m:\u001b[0m\u001b[1;33m\u001b[0m\u001b[1;33m\u001b[0m\u001b[0m\n\u001b[0;32m   1053\u001b[0m                 \u001b[0mself\u001b[0m\u001b[1;33m.\u001b[0m\u001b[0mlog\u001b[0m\u001b[1;33m.\u001b[0m\u001b[0mwarning\u001b[0m\u001b[1;33m(\u001b[0m\u001b[1;34m\"Invalid Message:\"\u001b[0m\u001b[1;33m,\u001b[0m \u001b[0mexc_info\u001b[0m\u001b[1;33m=\u001b[0m\u001b[1;32mTrue\u001b[0m\u001b[1;33m)\u001b[0m\u001b[1;33m\u001b[0m\u001b[1;33m\u001b[0m\u001b[0m\n",
            "\u001b[1;31mKeyboardInterrupt\u001b[0m: Interrupted by user"
          ]
        }
      ],
      "source": [
        "while True:\n",
        "\n",
        "    a=input(\"enter first number: \")\n",
        "    b=input(\"enter second number: \")\n",
        "\n",
        "    if a.isnumeric() != True and b.isnumeric() != True:\n",
        "        print(\"Please enter again with a numeric value\")\n",
        "    else:\n",
        "        print(\"Numbers are numeric\")\n",
        "        try:\n",
        "            \n",
        "            d =int(a) \n",
        "            e=int(b)\n",
        "            c = d/e\n",
        "            print(c)\n",
        "            break\n",
        "        except:\n",
        "            print(\"b not zero\")\n"
      ]
    },
    {
      "cell_type": "code",
      "execution_count": null,
      "id": "c41e51ab",
      "metadata": {
        "id": "c41e51ab",
        "outputId": "bd4969f8-25f4-465c-9887-22409c10be4f"
      },
      "outputs": [
        {
          "name": "stdout",
          "output_type": "stream",
          "text": [
            "dunny\n"
          ]
        }
      ],
      "source": [
        "print(\"dunny\")"
      ]
    },
    {
      "cell_type": "code",
      "execution_count": null,
      "id": "ad2e7204",
      "metadata": {
        "id": "ad2e7204",
        "outputId": "330dbb1b-92dd-4f1a-ab80-c98c5329cae5"
      },
      "outputs": [
        {
          "name": "stdout",
          "output_type": "stream",
          "text": [
            "ssavita\n"
          ]
        }
      ],
      "source": [
        "print(\"ssavita\")"
      ]
    },
    {
      "cell_type": "code",
      "execution_count": null,
      "id": "bdfe6e16",
      "metadata": {
        "id": "bdfe6e16"
      },
      "outputs": [],
      "source": [
        "####q7####\n",
        "l = [[1,2,3,4],(2,3,4,5,6),(3,4,5,6,7),set([23,4,5,45,4,4,5,45,45,4,5]),{'k1':'sudh','k2':'ineuron','k3':'kumar',3:6,7:8},['ineuron','data science']]\n",
        "l1=[ ]\n",
        "for i in l:\n",
        "    if type(i)==list or type(i)==tuple or type(i)==set:\n",
        "        for j in i:\n",
        "            if type(j)==int:\n",
        "                l1.append(j)\n",
        "        \n",
        "    if type(i)==dict:\n",
        "        for j in i.items():\n",
        "            if type(j[0])==int or type(j[1])==int:\n",
        "                l1.append(list(j))\n"
      ]
    },
    {
      "cell_type": "code",
      "execution_count": null,
      "id": "6b87f5eb",
      "metadata": {
        "id": "6b87f5eb"
      },
      "outputs": [],
      "source": [
        "\n",
        "listpower = lambda *x: [I**2 for I in x ]\n"
      ]
    },
    {
      "cell_type": "code",
      "execution_count": null,
      "id": "b8397712",
      "metadata": {
        "id": "b8397712",
        "outputId": "27f926f2-7a46-4783-86b4-e970386de85b"
      },
      "outputs": [
        {
          "data": {
            "text/plain": [
              "[16, 25, 36, 49]"
            ]
          },
          "execution_count": 75,
          "metadata": {},
          "output_type": "execute_result"
        }
      ],
      "source": [
        "listpower(4,5,6,7)"
      ]
    },
    {
      "cell_type": "code",
      "execution_count": null,
      "id": "8d20b8de",
      "metadata": {
        "id": "8d20b8de",
        "outputId": "edcd6dc2-89cb-436b-b1b0-27c0b2fe4c1e"
      },
      "outputs": [
        {
          "name": "stdout",
          "output_type": "stream",
          "text": [
            "enter first  number : 10\n",
            "enter second number : 20\n",
            "the output of c is :  0.5\n",
            "everything is good\n",
            "always print\n"
          ]
        }
      ],
      "source": [
        "class NegativeValueException(Exception):\n",
        "    pass\n",
        "\n",
        "a=0\n",
        "b=0\n",
        "while type(a) ==int and type(b) == int:\n",
        "    try:\n",
        "        a = int(input(\"enter first  number : \"))\n",
        "        b =int(input(\"enter second number : \"))\n",
        "        if a<0 or b<0:\n",
        "            raise NegativeValueException(\"please give positive integers only\")\n",
        "        c =a/b\n",
        "        print(\"the output of c is : \", c)\n",
        "    except ValueError:\n",
        "        print(\"please give integer only\")\n",
        "    except ZeroDivisionError:\n",
        "        print(\"please give denominator is non -zero value\")\n",
        "    except NegativeValueException as e:\n",
        "        print(\"raised : \", e)\n",
        "    else:\n",
        "        print(\"everything is good\")\n",
        "        break\n",
        "    finally:\n",
        "        print(\"always print\")"
      ]
    },
    {
      "cell_type": "code",
      "execution_count": null,
      "id": "2cf2ad82",
      "metadata": {
        "id": "2cf2ad82"
      },
      "outputs": [],
      "source": [
        ""
      ]
    }
  ],
  "metadata": {
    "kernelspec": {
      "display_name": "Python 3 (ipykernel)",
      "language": "python",
      "name": "python3"
    },
    "language_info": {
      "codemirror_mode": {
        "name": "ipython",
        "version": 3
      },
      "file_extension": ".py",
      "mimetype": "text/x-python",
      "name": "python",
      "nbconvert_exporter": "python",
      "pygments_lexer": "ipython3",
      "version": "3.9.7"
    },
    "colab": {
      "name": "Untitled.ipynb",
      "provenance": []
    }
  },
  "nbformat": 4,
  "nbformat_minor": 5
}